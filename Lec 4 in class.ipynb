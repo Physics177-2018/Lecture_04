{
 "cells": [
  {
   "cell_type": "code",
   "execution_count": 1,
   "metadata": {},
   "outputs": [],
   "source": [
    "x = 1E15\n",
    "y = 1000000000000001.234567"
   ]
  },
  {
   "cell_type": "code",
   "execution_count": 2,
   "metadata": {},
   "outputs": [
    {
     "data": {
      "text/plain": [
       "1.25"
      ]
     },
     "execution_count": 2,
     "metadata": {},
     "output_type": "execute_result"
    }
   ],
   "source": [
    "y-x"
   ]
  },
  {
   "cell_type": "code",
   "execution_count": 3,
   "metadata": {},
   "outputs": [],
   "source": [
    "# Riemann sum\n",
    "\n",
    "lower_limit = 1.0\n",
    "upper_limit = 2.3\n",
    "\n",
    "def integrate_Nsteps(func, num_steps):\n",
    "    total_area = 0.0\n",
    "    dx = (upper_limit - lower_limit)/num_steps\n",
    "    current_step = lower_limit + dx/2\n",
    "    \n",
    "    while current_step < upper_limit:\n",
    "        total_area += func(current_step)*dx \n",
    "        current_step += dx\n",
    "        \n",
    "    return total_area"
   ]
  },
  {
   "cell_type": "code",
   "execution_count": 5,
   "metadata": {},
   "outputs": [
    {
     "name": "stdout",
     "output_type": "stream",
     "text": [
      "11.166945074999926\n"
     ]
    }
   ],
   "source": [
    "def myFun(x):\n",
    "    return 3*x**2\n",
    "\n",
    "print(integrate_Nsteps(myFun,100))"
   ]
  },
  {
   "cell_type": "code",
   "execution_count": 6,
   "metadata": {},
   "outputs": [],
   "source": [
    "correct = 11.167"
   ]
  },
  {
   "cell_type": "code",
   "execution_count": 7,
   "metadata": {},
   "outputs": [
    {
     "data": {
      "text/plain": [
       "5.492500007342471e-05"
      ]
     },
     "execution_count": 7,
     "metadata": {},
     "output_type": "execute_result"
    }
   ],
   "source": [
    "correct - integrate_Nsteps(myFun,100)"
   ]
  },
  {
   "cell_type": "code",
   "execution_count": 9,
   "metadata": {},
   "outputs": [],
   "source": [
    "# TRAPEZOIDAL sum\n",
    "\n",
    "lower_limit = 1.0\n",
    "upper_limit = 2.3\n",
    "\n",
    "def trapezoid_Nsteps(func, num_steps):\n",
    "    total_area = 0.0\n",
    "    dx = (upper_limit - lower_limit)/num_steps\n",
    "    current_step = lower_limit\n",
    "    \n",
    "    while current_step < upper_limit:\n",
    "        total_area += 0.5*(func(current_step)+func(current_step+dx))*dx \n",
    "        current_step += dx\n",
    "        \n",
    "return total_area"
   ]
  },
  {
   "cell_type": "code",
   "execution_count": 10,
   "metadata": {},
   "outputs": [
    {
     "name": "stdout",
     "output_type": "stream",
     "text": [
      "11.374589245499925\n"
     ]
    }
   ],
   "source": [
    "print(trapezoid_Nsteps(myFun, 100))"
   ]
  },
  {
   "cell_type": "code",
   "execution_count": 12,
   "metadata": {},
   "outputs": [
    {
     "data": {
      "text/plain": [
       "-0.20758924549992486"
      ]
     },
     "execution_count": 12,
     "metadata": {},
     "output_type": "execute_result"
    }
   ],
   "source": [
    "correct-trapezoid_Nsteps(myFun, 100)"
   ]
  },
  {
   "cell_type": "code",
   "execution_count": 18,
   "metadata": {},
   "outputs": [],
   "source": [
    "# simpson sum\n",
    "\n",
    "lower_limit = 1.0\n",
    "upper_limit = 2.3\n",
    "\n",
    "def simpson_Nsteps(func, num_steps):\n",
    "    total_area = 0.0\n",
    "    dx = (upper_limit - lower_limit)/num_steps\n",
    "    current_step = lower_limit\n",
    "    \n",
    "    while current_step + 2*dx <= upper_limit:\n",
    "        total_area += (func(current_step)+4*func(current_step+dx)+func(current_step+2*dx))*dx/3 \n",
    "        current_step += 2*dx\n",
    "        \n",
    "    return total_area"
   ]
  },
  {
   "cell_type": "code",
   "execution_count": 19,
   "metadata": {},
   "outputs": [
    {
     "data": {
      "text/plain": [
       "11.167000000000002"
      ]
     },
     "execution_count": 19,
     "metadata": {},
     "output_type": "execute_result"
    }
   ],
   "source": [
    "simpson_Nsteps(myFun, 100)"
   ]
  },
  {
   "cell_type": "code",
   "execution_count": 20,
   "metadata": {},
   "outputs": [
    {
     "data": {
      "text/plain": [
       "-1.7763568394002505e-15"
      ]
     },
     "execution_count": 20,
     "metadata": {},
     "output_type": "execute_result"
    }
   ],
   "source": [
    "\n",
    "\n",
    "lower_limit = 1.0\n",
    "upper_limit = 2.3correct-simpson_Nsteps(myFun, 100)"
   ]
  },
  {
   "cell_type": "code",
   "execution_count": 24,
   "metadata": {},
   "outputs": [
    {
     "data": {
      "text/plain": [
       "0.4802000000000001"
      ]
     },
     "execution_count": 24,
     "metadata": {},
     "output_type": "execute_result"
    }
   ],
   "source": [
    "lower_limit = 0.0\n",
    "upper_limit = 1\n",
    "\n",
    "def myLine(x):\n",
    "    return x\n",
    "\n",
    "simpson_Nsteps(myLine, 100)"
   ]
  },
  {
   "cell_type": "code",
   "execution_count": 25,
   "metadata": {},
   "outputs": [
    {
     "data": {
      "text/plain": [
       "0.5000000000000002"
      ]
     },
     "execution_count": 25,
     "metadata": {},
     "output_type": "execute_result"
    }
   ],
   "source": [
    "integrate_Nsteps(myLine,100)"
   ]
  },
  {
   "cell_type": "code",
   "execution_count": 26,
   "metadata": {},
   "outputs": [
    {
     "data": {
      "text/plain": [
       "0.5000000000000002"
      ]
     },
     "execution_count": 26,
     "metadata": {},
     "output_type": "execute_result"
    }
   ],
   "source": [
    "trapezoid_Nsteps(myLine,100)"
   ]
  },
  {
   "cell_type": "code",
   "execution_count": null,
   "metadata": {},
   "outputs": [],
   "source": []
  }
 ],
 "metadata": {
  "kernelspec": {
   "display_name": "Python 3",
   "language": "python",
   "name": "python3"
  },
  "language_info": {
   "codemirror_mode": {
    "name": "ipython",
    "version": 3
   },
   "file_extension": ".py",
   "mimetype": "text/x-python",
   "name": "python",
   "nbconvert_exporter": "python",
   "pygments_lexer": "ipython3",
   "version": "3.6.3"
  }
 },
 "nbformat": 4,
 "nbformat_minor": 2
}
