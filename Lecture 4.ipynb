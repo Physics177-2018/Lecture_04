{
 "cells": [
  {
   "cell_type": "markdown",
   "metadata": {},
   "source": [
    "# Lec 4: More Integration\n",
    "\n",
    "12 April 2018  \n",
    "\n",
    "Puzzle from last time:"
   ]
  },
  {
   "cell_type": "code",
   "execution_count": 1,
   "metadata": {},
   "outputs": [],
   "source": [
    "x = 1E15 # one with fifteen zeros\n",
    "y = 1000000000000001.2345678 # x + 1.2345678"
   ]
  },
  {
   "cell_type": "code",
   "execution_count": 2,
   "metadata": {},
   "outputs": [
    {
     "name": "stdout",
     "output_type": "stream",
     "text": [
      "1.25\n"
     ]
    }
   ],
   "source": [
    "print(y-x) # should be 1.2345678"
   ]
  },
  {
   "cell_type": "markdown",
   "metadata": {},
   "source": [
    "**Puzzle**: why is this 1.25? Sure, there's some rounding error. But shouldn't it round to either 1.23 (round down) or 1.24 (round up)? \n",
    "\n",
    "**Answer**: see hand-written lecture notes."
   ]
  },
  {
   "cell_type": "markdown",
   "metadata": {},
   "source": [
    "## Integral Algorithms\n",
    "\n",
    "*General idea:* we want the area under a curve. We have a function, which we view as a tool for giving us **samples** of the curve. Given an $x_i$, the function spits out $f(x_i)$. Using this tool, we wrote up a code that:\n",
    "1. Has some kind of loop to sample the function at discrete $x$ values\n",
    "2. Sums together the approximate areas of under the curve from $x_i$ to $x_{i+1}$.\n",
    "\n",
    "A reminder:"
   ]
  },
  {
   "cell_type": "code",
   "execution_count": 3,
   "metadata": {},
   "outputs": [],
   "source": [
    "# Let's write a function that takes N samples in the range x in [a,b].\n",
    "# (This way we can control how long it takes)\n",
    "\n",
    "lower_limit = 1.0\n",
    "upper_limit = 2.3\n",
    "\n",
    "def integrate_Nsteps(function_name, num_steps):\n",
    "    \"\"\"Riemann sum from lower_limit to upper_limit\"\"\"\n",
    "    delta_x = (upper_limit - lower_limit)/num_steps\n",
    "    sample_at = lower_limit + (delta_x/2.)\n",
    "    total = 0.\n",
    "    \n",
    "    while sample_at < upper_limit:\n",
    "        total += function_name(sample_at)*delta_x\n",
    "        sample_at = sample_at + delta_x\n",
    "    \n",
    "    return total"
   ]
  },
  {
   "cell_type": "code",
   "execution_count": 4,
   "metadata": {},
   "outputs": [
    {
     "data": {
      "text/plain": [
       "11.166945074999926"
      ]
     },
     "execution_count": 4,
     "metadata": {},
     "output_type": "execute_result"
    }
   ],
   "source": [
    "def myFun(x):\n",
    "    return 3*x**2\n",
    "\n",
    "integrate_Nsteps(myFun,100)\n",
    "# Should be 11.167\n",
    "# How did I know? I used Mathematica."
   ]
  },
  {
   "cell_type": "code",
   "execution_count": 5,
   "metadata": {},
   "outputs": [
    {
     "data": {
      "text/plain": [
       "5.492500007342471e-05"
      ]
     },
     "execution_count": 5,
     "metadata": {},
     "output_type": "execute_result"
    }
   ],
   "source": [
    "11.167 - _ # underscore means \"previous output\""
   ]
  },
  {
   "cell_type": "markdown",
   "metadata": {},
   "source": [
    "Something to think about: how many times did we go through the `while` loop?\n",
    "* $N-1$\n",
    "* $N$\n",
    "* $N+1$\n",
    "\n",
    "(Correct answer: $N$. Try it with $N=2$)"
   ]
  },
  {
   "cell_type": "markdown",
   "metadata": {},
   "source": [
    "Let's now try this with the trapezoidal rule."
   ]
  },
  {
   "cell_type": "code",
   "execution_count": 6,
   "metadata": {},
   "outputs": [],
   "source": [
    "# We can start by copy and pasting...\n",
    "\n",
    "# Copy this over so that we don't have to depend on a\n",
    "# global variable from somewhere far away\n",
    "lower_limit = 1.0\n",
    "upper_limit = 2.3\n",
    "\n",
    "def trapezoid_Nsteps(function_name, num_steps):\n",
    "    \"\"\"Trapezoidal rule from lower_limit to upper_limit\"\"\"\n",
    "    delta_x = (upper_limit - lower_limit)/num_steps\n",
    "    x_low = lower_limit # lower edge of trapezoid\n",
    "    total = 0.\n",
    "    \n",
    "    while x_low < upper_limit:\n",
    "        total += (function_name(x_low)+function_name(x_low+delta_x))*delta_x/2.\n",
    "        x_low = x_low + delta_x\n",
    "    \n",
    "    return total"
   ]
  },
  {
   "cell_type": "code",
   "execution_count": 7,
   "metadata": {},
   "outputs": [
    {
     "data": {
      "text/plain": [
       "11.374589245499925"
      ]
     },
     "execution_count": 7,
     "metadata": {},
     "output_type": "execute_result"
    }
   ],
   "source": [
    "trapezoid_Nsteps(myFun,100)"
   ]
  },
  {
   "cell_type": "code",
   "execution_count": 8,
   "metadata": {},
   "outputs": [
    {
     "data": {
      "text/plain": [
       "-0.20758924549992486"
      ]
     },
     "execution_count": 8,
     "metadata": {},
     "output_type": "execute_result"
    }
   ],
   "source": [
    "11.167 - _"
   ]
  },
  {
   "cell_type": "markdown",
   "metadata": {},
   "source": [
    "**What's going on?** It looks like the Riemann sum approximation is better! I believe this has to do with the convexity (curvature) of the function. Draw the function and convince yourself that the trapezoidal rule always over-estimates for this function!"
   ]
  },
  {
   "cell_type": "markdown",
   "metadata": {},
   "source": [
    "## Simpson's rule\n",
    "\n",
    "Simpson's rule approximates the function with parabolas for each segment. The parbola is defined by three samplings.\n",
    "\n",
    "From the lecture 3 notes:\n",
    "\n",
    "$$(\\text{small area})_i = \\frac{\\Delta x}{3}\n",
    "\\left[\n",
    "f(x_i - \\Delta x)\n",
    "+ 4 f(x_i)\n",
    "+ f(x_i + \\Delta x)\n",
    "\\right]\n",
    "$$"
   ]
  },
  {
   "cell_type": "code",
   "execution_count": 9,
   "metadata": {},
   "outputs": [],
   "source": [
    "# We can start by copy and pasting...\n",
    "\n",
    "# Copy this over so that we don't have to depend on a\n",
    "# global variable from somewhere far away\n",
    "lower_limit = 1.0\n",
    "upper_limit = 2.3\n",
    "\n",
    "def Simpson_Nsteps(function_name, num_steps):\n",
    "    \"\"\"Simpson rule from lower_limit to upper_limit\"\"\"\n",
    "    delta_x = (upper_limit - lower_limit)/num_steps\n",
    "    x_low = lower_limit # lower edge of trapezoid\n",
    "    total = 0.\n",
    "    \n",
    "    while x_low + 2*delta_x <= upper_limit: # see why we do this?\n",
    "        sum_of_terms = function_name(x_low) \\\n",
    "            + 4*function_name(x_low + delta_x) \\\n",
    "            + function_name(x_low + 2*delta_x)\n",
    "        total += delta_x / 3 * sum_of_terms\n",
    "        x_low = x_low + 2*delta_x\n",
    "    \n",
    "    return total"
   ]
  },
  {
   "cell_type": "code",
   "execution_count": 10,
   "metadata": {},
   "outputs": [
    {
     "data": {
      "text/plain": [
       "11.167000000000002"
      ]
     },
     "execution_count": 10,
     "metadata": {},
     "output_type": "execute_result"
    }
   ],
   "source": [
    "Simpson_Nsteps(myFun, 100)"
   ]
  },
  {
   "cell_type": "code",
   "execution_count": 11,
   "metadata": {},
   "outputs": [
    {
     "data": {
      "text/plain": [
       "-1.7763568394002505e-15"
      ]
     },
     "execution_count": 11,
     "metadata": {},
     "output_type": "execute_result"
    }
   ],
   "source": [
    "11.167-_"
   ]
  },
  {
   "cell_type": "markdown",
   "metadata": {},
   "source": [
    "Actually, this accuracy seems remarkable! *Is it?*\n",
    "\n",
    "This is an accuracy on the order of $10^{-15}$, which is pretty close to the limits of our precision. "
   ]
  },
  {
   "cell_type": "code",
   "execution_count": null,
   "metadata": {},
   "outputs": [],
   "source": []
  }
 ],
 "metadata": {
  "kernelspec": {
   "display_name": "Python 3",
   "language": "python",
   "name": "python3"
  },
  "language_info": {
   "codemirror_mode": {
    "name": "ipython",
    "version": 3
   },
   "file_extension": ".py",
   "mimetype": "text/x-python",
   "name": "python",
   "nbconvert_exporter": "python",
   "pygments_lexer": "ipython3",
   "version": "3.6.3"
  }
 },
 "nbformat": 4,
 "nbformat_minor": 2
}
